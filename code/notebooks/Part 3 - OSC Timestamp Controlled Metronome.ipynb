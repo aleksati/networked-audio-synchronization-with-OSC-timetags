{
 "cells": [
  {
   "cell_type": "markdown",
   "id": "23e85649",
   "metadata": {},
   "source": [
    "# Part 3 - OSC Timestamp Controlled Metronome \n",
    "\n",
    "The third example demonstrates how we can use OSC timestamps to improve synchronization and real-time musical performance over a network. The code is similar to the metronome control system introduced in example 2 but adds the option to adjust the timestamps associated with each OSC packet.\n",
    "\n",
    "### Files \n",
    "1. Notebook \"Part 3 - Realtime Synchronization With OSC Timestamps\"\n",
    "1. Notebook \"OSC Server\"\n",
    "2. Metronome tick \"./tick.wav\"\n",
    "3. Pure Data patch from \"../pd/part3_osc_timestamp_controlled_metronome.pd\"\n",
    "4. Metronome tick \"../pd/tick.wav\"\n",
    "5. Notebook \"Extra - UTC Timestamp Printing\"\n",
    "\n",
    "<p align=\"left\">\n",
    " <img src=\"../../fig/example3.jpg\" width=500>\n",
    "</p>"
   ]
  },
  {
   "cell_type": "code",
   "execution_count": null,
   "id": "a124b4a3",
   "metadata": {},
   "outputs": [],
   "source": [
    "from pythonosc import udp_client\n",
    "from pythonosc import osc_bundle_builder, osc_message_builder\n",
    "import time\n",
    "import threading"
   ]
  },
  {
   "cell_type": "code",
   "execution_count": null,
   "id": "bd2c58f4",
   "metadata": {},
   "outputs": [],
   "source": [
    "# Config\n",
    "BPM = 100\n",
    "BEAT_INTERVAL = 60 / BPM"
   ]
  },
  {
   "cell_type": "markdown",
   "id": "5d0adc64",
   "metadata": {},
   "source": [
    "## Define Remote OSC Client (Pure Data)"
   ]
  },
  {
   "cell_type": "code",
   "execution_count": null,
   "id": "fcbf430d",
   "metadata": {},
   "outputs": [],
   "source": [
    "clientIp = '127.0.0.1'\n",
    "clientPort = 8001\n",
    "client1 = udp_client.UDPClient(clientIp, clientPort)\n",
    "\n",
    "print(f'Starting client on {clientIp}, port {clientPort}.')"
   ]
  },
  {
   "cell_type": "markdown",
   "id": "8b53b522",
   "metadata": {},
   "source": [
    "## Message sending logic"
   ]
  },
  {
   "cell_type": "code",
   "execution_count": null,
   "id": "922a5152",
   "metadata": {},
   "outputs": [],
   "source": [
    "def sendMsg(client):\n",
    "    print('Sending messages to client.')\n",
    "\n",
    "    # using the current time once and increment ticks over every while Loop is a more predicable metronome for creating custom timestamp based on a fixed tempo. \n",
    "    start_time = time.time()\n",
    "    beat_number = 0\n",
    "\n",
    "    while True:\n",
    "        # Custom timestamp = start time + current while Loop round /tick_numb)\n",
    "        custom_timestamp = start_time + (beat_number * BEAT_INTERVAL)\n",
    "\n",
    "        # open a OSC bundle\n",
    "        # add our timestamp to the bundle builder object\n",
    "        bundle = osc_bundle_builder.OscBundleBuilder(custom_timestamp)\n",
    "\n",
    "        # Create and add message\n",
    "        msg = osc_message_builder.OscMessageBuilder(address=\"/tick\")\n",
    "        \n",
    "        msg.add_arg(\"tick\")\n",
    "        \n",
    "        bundle.add_content(msg.build())\n",
    "\n",
    "        # Send the bundle\n",
    "        client.send(bundle.build())\n",
    "\n",
    "        # increment the beat number for every loop\n",
    "        beat_number += 1\n",
    "\n",
    "        # Wait for the next beat\n",
    "        time.sleep(BEAT_INTERVAL)"
   ]
  },
  {
   "cell_type": "markdown",
   "id": "a6048830",
   "metadata": {},
   "source": [
    "## Send Messages to Remote Client"
   ]
  },
  {
   "cell_type": "code",
   "execution_count": null,
   "id": "1b16782a",
   "metadata": {},
   "outputs": [],
   "source": [
    "sendMsg(client1)"
   ]
  },
  {
   "cell_type": "markdown",
   "id": "7a2f16ea",
   "metadata": {},
   "source": [
    "## Activity\n",
    "\n",
    "1. Test and explore the example on your local machine. Try different applications rather than a metronome."
   ]
  }
 ],
 "metadata": {
  "kernelspec": {
   "display_name": "Python 3 (ipykernel)",
   "language": "python",
   "name": "python3"
  },
  "language_info": {
   "codemirror_mode": {
    "name": "ipython",
    "version": 3
   },
   "file_extension": ".py",
   "mimetype": "text/x-python",
   "name": "python",
   "nbconvert_exporter": "python",
   "pygments_lexer": "ipython3",
   "version": "3.9.13"
  }
 },
 "nbformat": 4,
 "nbformat_minor": 5
}
