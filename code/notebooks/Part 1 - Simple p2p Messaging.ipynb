{
 "cells": [
  {
   "cell_type": "markdown",
   "id": "a6db6364",
   "metadata": {},
   "source": [
    "# Part 1 - Simple p2p Messaging\n",
    "Example 1 demonstrates how we can setup a simple 2-way p2p OSC communication between Python and Pure Data. First, we define a client and semd 10 \"hello\" messages to a remote client (PD). Then, we set up a simple server that listens for OSC messages from remote clients.\n",
    "\n",
    "https://python-osc.readthedocs.io/en/latest/index.html\n",
    "\n",
    "### Files \n",
    "1. Notebook \"Part 1 - Simple p2p Messaging\"\n",
    "2. Pure Data patch from \"../pd/part1_simple_p2p_connection.pd\"\n",
    "\n",
    "<p align=\"left\">\n",
    " <img src=\"../../fig/example1.jpg\" width=500>\n",
    "</p>"
   ]
  },
  {
   "cell_type": "code",
   "execution_count": 2,
   "id": "a6482567",
   "metadata": {},
   "outputs": [],
   "source": [
    "from pythonosc import udp_client\n",
    "from pythonosc import osc_bundle_builder, osc_message_builder\n",
    "import time"
   ]
  },
  {
   "cell_type": "markdown",
   "id": "eff486d7",
   "metadata": {},
   "source": [
    "## Define Remote OSC Client (Pure Data)"
   ]
  },
  {
   "cell_type": "code",
   "execution_count": 3,
   "id": "d8ce4e23",
   "metadata": {},
   "outputs": [
    {
     "name": "stdout",
     "output_type": "stream",
     "text": [
      "Starting client on 127.0.0.1, port 8001.\n"
     ]
    }
   ],
   "source": [
    "clientIp = '127.0.0.1'\n",
    "clientPort = 8001\n",
    "client1 = udp_client.UDPClient(clientIp, clientPort)\n",
    "\n",
    "print(f'Starting client on {clientIp}, port {clientPort}.')"
   ]
  },
  {
   "cell_type": "markdown",
   "id": "d2e200fe",
   "metadata": {},
   "source": [
    "## Message sending logic"
   ]
  },
  {
   "cell_type": "code",
   "execution_count": 4,
   "id": "17eac354",
   "metadata": {},
   "outputs": [],
   "source": [
    "# Message sending logic\n",
    "def sendMsg(client):\n",
    "    print('Sending 10 messages to the client.')\n",
    "    for i in range(10):\n",
    "        # Create bundle with IMMEDIATE timestamp\n",
    "        bundle = osc_bundle_builder.OscBundleBuilder(\n",
    "            osc_bundle_builder.IMMEDIATELY)\n",
    "\n",
    "        # Create and add message\n",
    "        msg = osc_message_builder.OscMessageBuilder(address=\"/tick\")\n",
    "        \n",
    "        msg.add_arg(f'Hello nr.{i} from Python client!')\n",
    "        \n",
    "        bundle.add_content(msg.build())\n",
    "\n",
    "        # Send the bundle\n",
    "        client.send(bundle.build())\n",
    "\n",
    "        # Wait for the next beat\n",
    "        time.sleep(0.5)\n",
    "    \n",
    "    print(\"done sending...\")"
   ]
  },
  {
   "cell_type": "markdown",
   "id": "b0baf216",
   "metadata": {},
   "source": [
    "## Send Messages to Remote Client (Pure Data)"
   ]
  },
  {
   "cell_type": "code",
   "execution_count": 5,
   "id": "d503a079",
   "metadata": {},
   "outputs": [
    {
     "name": "stdout",
     "output_type": "stream",
     "text": [
      "Sending 10 messages to the client.\n",
      "done sending...\n"
     ]
    }
   ],
   "source": [
    "sendMsg(client1)"
   ]
  },
  {
   "cell_type": "markdown",
   "id": "b18d636b",
   "metadata": {},
   "source": [
    "## Activity\n",
    "\n",
    "1. Test and explore the example on your local machine. Use \"localhost\" or \"127.0.0.1\" as your client and server IPs.\n",
    "2. Test and play around with the example on a Wi-Fi or wired network in pairs."
   ]
  }
 ],
 "metadata": {
  "kernelspec": {
   "display_name": "Python 3 (ipykernel)",
   "language": "python",
   "name": "python3"
  },
  "language_info": {
   "codemirror_mode": {
    "name": "ipython",
    "version": 3
   },
   "file_extension": ".py",
   "mimetype": "text/x-python",
   "name": "python",
   "nbconvert_exporter": "python",
   "pygments_lexer": "ipython3",
   "version": "3.9.13"
  }
 },
 "nbformat": 4,
 "nbformat_minor": 5
}
