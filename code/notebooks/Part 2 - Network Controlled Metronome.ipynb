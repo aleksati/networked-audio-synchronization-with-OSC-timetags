{
 "cells": [
  {
   "cell_type": "markdown",
   "id": "23e85649",
   "metadata": {},
   "source": [
    "# Part 2 - Network Controlled Metronome\n",
    "\n",
    "The second example demonstrates how we can begin to control and synchronize audio over the network using OSC. The code expands on example 1, but here we continously send \"tick\" messages to the remote client to control a metronome. \n",
    "\n",
    "Similarly, in our \"OSC Server\" notebook we can listen for \"tick\" messages on our to control a local metronome audio playback.\n",
    "\n",
    "### Files \n",
    "1. Notebook \"Part 2 - Network Controlled Metronome\"\n",
    "2. Notebook \"OSC Server\"\n",
    "2. Metronome tick \"./tick.wav\"\n",
    "3. Pure Data patch from \"../pd/part2_network_controlled_metronome.pd\"\n",
    "4. Metronome tick \"../pd/tick.wav\"\n",
    "\n",
    "<p align=\"left\">\n",
    " <img src=\"../../fig/example2.jpg\" width=500>\n",
    "</p>"
   ]
  },
  {
   "cell_type": "code",
   "execution_count": null,
   "id": "fcbf430d",
   "metadata": {},
   "outputs": [],
   "source": [
    "from pythonosc import udp_client\n",
    "from pythonosc import osc_bundle_builder, osc_message_builder\n",
    "import time"
   ]
  },
  {
   "cell_type": "code",
   "execution_count": null,
   "id": "b661d7ba",
   "metadata": {},
   "outputs": [],
   "source": [
    "# Config\n",
    "BPM = 100\n",
    "BEAT_INTERVAL = 60 / BPM"
   ]
  },
  {
   "cell_type": "markdown",
   "id": "a18ac622",
   "metadata": {},
   "source": [
    "## Define Remote OSC Client (Pure Data)"
   ]
  },
  {
   "cell_type": "code",
   "execution_count": null,
   "id": "320c3910",
   "metadata": {},
   "outputs": [],
   "source": [
    "clientIp = '127.0.0.1'\n",
    "clientPort = 8001\n",
    "client1 = udp_client.UDPClient(clientIp, clientPort)\n",
    "\n",
    "print(f'Starting client on {clientIp}, port {clientPort}.')"
   ]
  },
  {
   "cell_type": "markdown",
   "id": "8b53b522",
   "metadata": {},
   "source": [
    "## Message sending logic"
   ]
  },
  {
   "cell_type": "code",
   "execution_count": null,
   "id": "21de30d8",
   "metadata": {},
   "outputs": [],
   "source": [
    "def sendMsg(client):\n",
    "    print('Sending messages to client.')\n",
    "    while True:\n",
    "        # Create bundle with IMMEDIATE timestamp\n",
    "        bundle = osc_bundle_builder.OscBundleBuilder(\n",
    "            osc_bundle_builder.IMMEDIATELY)\n",
    "\n",
    "        # Create and add message\n",
    "        msg = osc_message_builder.OscMessageBuilder(address=\"/tick\")\n",
    "        \n",
    "        msg.add_arg(\"tick\")\n",
    "        \n",
    "        bundle.add_content(msg.build())\n",
    "\n",
    "        # Send the bundle\n",
    "        client.send(bundle.build())\n",
    "\n",
    "        # Wait for the next beat\n",
    "        time.sleep(BEAT_INTERVAL)"
   ]
  },
  {
   "cell_type": "markdown",
   "id": "e6ad9a0b",
   "metadata": {},
   "source": [
    "## Send Messages to Remote Client"
   ]
  },
  {
   "cell_type": "code",
   "execution_count": null,
   "id": "d903949a",
   "metadata": {},
   "outputs": [],
   "source": [
    "sendMsg(client1)"
   ]
  },
  {
   "cell_type": "markdown",
   "id": "7a2f16ea",
   "metadata": {},
   "source": [
    "## Activity\n",
    "\n",
    "(same as example 1)\n",
    "\n",
    "1. Test and explore the example on your local machine. Use \"localhost\" or \"127.0.0.1\" as your client and server IPs.\n",
    "2. Test and play around with the example on a Wi-Fi or wired network in pairs.\n",
    "\n",
    "Most likely, you will notice that controlling the metronome over Wi-Fi is quite unstable, with periodic dropouts due to network jitter and latency."
   ]
  }
 ],
 "metadata": {
  "kernelspec": {
   "display_name": "Python 3 (ipykernel)",
   "language": "python",
   "name": "python3"
  },
  "language_info": {
   "codemirror_mode": {
    "name": "ipython",
    "version": 3
   },
   "file_extension": ".py",
   "mimetype": "text/x-python",
   "name": "python",
   "nbconvert_exporter": "python",
   "pygments_lexer": "ipython3",
   "version": "3.9.13"
  }
 },
 "nbformat": 4,
 "nbformat_minor": 5
}
