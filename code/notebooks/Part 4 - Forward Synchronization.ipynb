{
 "cells": [
  {
   "cell_type": "markdown",
   "id": "23e85649",
   "metadata": {},
   "source": [
    "# Part 4 - Forward Synchronization\n",
    "\n",
    "to come.\n",
    "\n",
    "### Files \n",
    "1. Notebook \"Part 4 - Forward Syncronization\"\n",
    "1. Notebook \"OSC Server\"\n",
    "2. Metronome tick \"./tick.wav\"\n",
    "3. Pure Data patch from \"../pd/part4_forward_synchronization.pd\"\n",
    "4. Metronome tick \"../pd/tick.wav\"\n",
    "5. Notebook \"Extra - UTC Timestamp Printing\"\n",
    "\n",
    "<p align=\"left\">\n",
    " <img src=\"../../fig/example4.jpg\" width=500>\n",
    "</p>"
   ]
  },
  {
   "cell_type": "code",
   "execution_count": 1,
   "id": "9264ed03",
   "metadata": {},
   "outputs": [],
   "source": [
    "from pythonosc import udp_client\n",
    "from pythonosc import osc_bundle_builder, osc_message_builder\n",
    "import time\n",
    "import threading"
   ]
  },
  {
   "cell_type": "code",
   "execution_count": 2,
   "id": "37899441",
   "metadata": {},
   "outputs": [],
   "source": [
    "# Config\n",
    "BPM = 100  # Beats per minute\n",
    "BEAT_INTERVAL = 60 / BPM\n",
    "\n",
    "# seconds into the future to schedule ticks\n",
    "FORWARD_OFFSET = 4  "
   ]
  },
  {
   "cell_type": "markdown",
   "id": "9e368128",
   "metadata": {},
   "source": [
    "## Define Remote OSC Clients (Pure Data and Python)"
   ]
  },
  {
   "cell_type": "code",
   "execution_count": 3,
   "id": "3dce7a4e",
   "metadata": {},
   "outputs": [],
   "source": [
    "# Remote client (Pure Data)\n",
    "clientIp = '127.0.0.1'\n",
    "clientPort = 8001\n",
    "client1 = udp_client.UDPClient(clientIp, clientPort)\n",
    "\n",
    "# Local client (Python server)\n",
    "client2Ip = '127.0.0.1'\n",
    "client2Port = 8000\n",
    "client2 = udp_client.UDPClient(client2Ip, client2Port)"
   ]
  },
  {
   "cell_type": "markdown",
   "id": "026d275e",
   "metadata": {},
   "source": [
    "## Message sending logic"
   ]
  },
  {
   "cell_type": "code",
   "execution_count": null,
   "id": "b0f0f2a3",
   "metadata": {},
   "outputs": [],
   "source": [
    "stop_threading = False\n",
    "\n",
    "def sendMsg(clients):\n",
    "    print(f'Sending messages to client.')\n",
    "    \n",
    "    start_time = time.time()\n",
    "    beat_number = 0\n",
    "\n",
    "    while not stop_threading:\n",
    "        # NEW custom timestamp = start time + current while Loop round /tick_numb) + forward sync offset\n",
    "        custom_timestamp = start_time + (beat_number * BEAT_INTERVAL) + FORWARD_OFFSET\n",
    "\n",
    "        # Create bundle with future timestamp\n",
    "        bundle = osc_bundle_builder.OscBundleBuilder(custom_timestamp)\n",
    "\n",
    "        # Create and add message\n",
    "        msg = osc_message_builder.OscMessageBuilder(address=\"/tick\")\n",
    "        \n",
    "        msg.add_arg(\"tick\")\n",
    "        \n",
    "        bundle.add_content(msg.build())\n",
    "\n",
    "        # Send the bundle\n",
    "        clients[0].send(bundle.build())\n",
    "        clients[1].send(bundle.build())\n",
    "\n",
    "        # increment the beat number for every loop\n",
    "        beat_number += 1\n",
    "\n",
    "        # Wait for the next beat\n",
    "        time.sleep(BEAT_INTERVAL)"
   ]
  },
  {
   "cell_type": "markdown",
   "id": "98a9958b",
   "metadata": {},
   "source": [
    "## Send Messages to Remote Clients"
   ]
  },
  {
   "cell_type": "code",
   "execution_count": null,
   "id": "9b6ffc31",
   "metadata": {},
   "outputs": [
    {
     "name": "stdout",
     "output_type": "stream",
     "text": [
      "Sending messages to client.\n",
      "Sending messages to client.\n",
      "Press Ctrl+C to exit.\n",
      "Exiting...\n"
     ]
    }
   ],
   "source": [
    "if __name__ == \"__main__\":\n",
    "    # Start sending messages to two identical clients (local and remote), but in individual threads\n",
    "    t_clients = threading.Thread(target=sendMsg, args=([client1, client2],), daemon=True)\n",
    "\n",
    "    # start sending\n",
    "    t_clients.start()\n",
    "\n",
    "    print(\"Press Ctrl+C to exit.\")\n",
    "\n",
    "    try:\n",
    "        while True:\n",
    "            time.sleep(1)\n",
    "    except KeyboardInterrupt:\n",
    "        print(\"Exiting...\")"
   ]
  },
  {
   "cell_type": "code",
   "execution_count": 10,
   "id": "65568bf0",
   "metadata": {},
   "outputs": [],
   "source": [
    "stop_threading = True"
   ]
  }
 ],
 "metadata": {
  "kernelspec": {
   "display_name": "Python 3 (ipykernel)",
   "language": "python",
   "name": "python3"
  },
  "language_info": {
   "codemirror_mode": {
    "name": "ipython",
    "version": 3
   },
   "file_extension": ".py",
   "mimetype": "text/x-python",
   "name": "python",
   "nbconvert_exporter": "python",
   "pygments_lexer": "ipython3",
   "version": "3.9.13"
  }
 },
 "nbformat": 4,
 "nbformat_minor": 5
}
