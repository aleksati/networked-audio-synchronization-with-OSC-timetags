{
 "cells": [
  {
   "cell_type": "markdown",
   "id": "ed994886",
   "metadata": {},
   "source": [
    "# Extra - UTC Timestamp Printing\n",
    "\n",
    "Convert current DateTime to UTC UNIX Timestamp (seconds since epoch). Print the time on the console, once every second. \n",
    "\n",
    "docs: \n",
    "https://www.geeksforgeeks.org/how-to-convert-datetime-to-unix-timestamp-in-python/"
   ]
  },
  {
   "cell_type": "code",
   "execution_count": 1,
   "id": "6c169723",
   "metadata": {},
   "outputs": [
    {
     "name": "stdout",
     "output_type": "stream",
     "text": [
      "current timestamp: 1746381619\n",
      "current timestamp: 1746381620\n",
      "current timestamp: 1746381621\n",
      "current timestamp: 1746381622\n",
      "current timestamp: 1746381623\n",
      "current timestamp: 1746381624\n",
      "current timestamp: 1746381625\n"
     ]
    },
    {
     "ename": "KeyboardInterrupt",
     "evalue": "",
     "output_type": "error",
     "traceback": [
      "\u001b[1;31m---------------------------------------------------------------------------\u001b[0m",
      "\u001b[1;31mKeyboardInterrupt\u001b[0m                         Traceback (most recent call last)",
      "\u001b[1;32m~\\AppData\\Local\\Temp\\ipykernel_22864\\1509750914.py\u001b[0m in \u001b[0;36m<module>\u001b[1;34m\u001b[0m\n\u001b[0;32m      9\u001b[0m     \u001b[0mprint\u001b[0m\u001b[1;33m(\u001b[0m\u001b[1;34m\"current timestamp:\"\u001b[0m\u001b[1;33m,\u001b[0m \u001b[0mutc_timestamp\u001b[0m\u001b[1;33m)\u001b[0m\u001b[1;33m\u001b[0m\u001b[1;33m\u001b[0m\u001b[0m\n\u001b[0;32m     10\u001b[0m \u001b[1;33m\u001b[0m\u001b[0m\n\u001b[1;32m---> 11\u001b[1;33m     \u001b[0mtime\u001b[0m\u001b[1;33m.\u001b[0m\u001b[0msleep\u001b[0m\u001b[1;33m(\u001b[0m\u001b[1;36m1\u001b[0m\u001b[1;33m)\u001b[0m\u001b[1;33m\u001b[0m\u001b[1;33m\u001b[0m\u001b[0m\n\u001b[0m",
      "\u001b[1;31mKeyboardInterrupt\u001b[0m: "
     ]
    }
   ],
   "source": [
    "from datetime import datetime\n",
    "import calendar\n",
    "import time\n",
    "\n",
    "while True:\n",
    "    date = datetime.utcnow()\n",
    "    utc_timestamp = calendar.timegm(date.utctimetuple())\n",
    "    \n",
    "    print(\"current timestamp:\", utc_timestamp)\n",
    "    \n",
    "    time.sleep(1)"
   ]
  },
  {
   "cell_type": "code",
   "execution_count": null,
   "id": "ba6ab9ac",
   "metadata": {},
   "outputs": [],
   "source": []
  }
 ],
 "metadata": {
  "kernelspec": {
   "display_name": "base",
   "language": "python",
   "name": "python3"
  },
  "language_info": {
   "codemirror_mode": {
    "name": "ipython",
    "version": 3
   },
   "file_extension": ".py",
   "mimetype": "text/x-python",
   "name": "python",
   "nbconvert_exporter": "python",
   "pygments_lexer": "ipython3",
   "version": "3.9.13"
  }
 },
 "nbformat": 4,
 "nbformat_minor": 5
}
